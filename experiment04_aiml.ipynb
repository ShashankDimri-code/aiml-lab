{
  "nbformat": 4,
  "nbformat_minor": 0,
  "metadata": {
    "colab": {
      "provenance": [],
      "authorship_tag": "ABX9TyMy60LrUZqwIDiIPn0fiMOM",
      "include_colab_link": true
    },
    "kernelspec": {
      "name": "python3",
      "display_name": "Python 3"
    },
    "language_info": {
      "name": "python"
    }
  },
  "cells": [
    {
      "cell_type": "markdown",
      "metadata": {
        "id": "view-in-github",
        "colab_type": "text"
      },
      "source": [
        "<a href=\"https://colab.research.google.com/github/ShashankDimri-code/aiml-lab/blob/main/experiment04_aiml.ipynb\" target=\"_parent\"><img src=\"https://colab.research.google.com/assets/colab-badge.svg\" alt=\"Open In Colab\"/></a>"
      ]
    },
    {
      "cell_type": "code",
      "execution_count": null,
      "metadata": {
        "colab": {
          "base_uri": "https://localhost:8080/"
        },
        "id": "1u_o-ViWvgVd",
        "outputId": "6506b997-aed7-4bd7-f50e-266e1a86d097"
      },
      "outputs": [
        {
          "output_type": "stream",
          "name": "stdout",
          "text": [
            "Requirement already satisfied: pandas in /usr/local/lib/python3.10/dist-packages (2.1.4)\n",
            "Requirement already satisfied: numpy in /usr/local/lib/python3.10/dist-packages (1.26.4)\n",
            "Requirement already satisfied: python-dateutil>=2.8.2 in /usr/local/lib/python3.10/dist-packages (from pandas) (2.8.2)\n",
            "Requirement already satisfied: pytz>=2020.1 in /usr/local/lib/python3.10/dist-packages (from pandas) (2024.2)\n",
            "Requirement already satisfied: tzdata>=2022.1 in /usr/local/lib/python3.10/dist-packages (from pandas) (2024.1)\n",
            "Requirement already satisfied: six>=1.5 in /usr/local/lib/python3.10/dist-packages (from python-dateutil>=2.8.2->pandas) (1.16.0)\n"
          ]
        }
      ],
      "source": [
        "pip install pandas numpy\n"
      ]
    },
    {
      "cell_type": "code",
      "source": [
        "import pandas as pd"
      ],
      "metadata": {
        "id": "M7zgdB370KYP"
      },
      "execution_count": null,
      "outputs": []
    },
    {
      "cell_type": "code",
      "source": [
        "#Loading the dataset\n",
        "df = pd.read_csv('sample_dataset.csv')"
      ],
      "metadata": {
        "id": "BEZaInez0PIB"
      },
      "execution_count": null,
      "outputs": []
    },
    {
      "cell_type": "code",
      "source": [
        "#Number of rows and columns\n",
        "print(\"Number of rows and columns:\", df.shape)"
      ],
      "metadata": {
        "colab": {
          "base_uri": "https://localhost:8080/"
        },
        "id": "LGkZj30H1DKs",
        "outputId": "3b67a73c-ada3-4b1e-85e4-e9d451a1378e"
      },
      "execution_count": null,
      "outputs": [
        {
          "output_type": "stream",
          "name": "stdout",
          "text": [
            "Number of rows and columns: (10, 5)\n"
          ]
        }
      ]
    },
    {
      "cell_type": "code",
      "source": [
        "#First five rows\n",
        "print(\"First five rows:\")\n",
        "print(df.head())"
      ],
      "metadata": {
        "colab": {
          "base_uri": "https://localhost:8080/"
        },
        "id": "xtrQTT1C1HVS",
        "outputId": "fc14bd83-4cfb-40ad-d1fd-a2720ab4136b"
      },
      "execution_count": null,
      "outputs": [
        {
          "output_type": "stream",
          "name": "stdout",
          "text": [
            "First five rows:\n",
            "   Product ID  Product Name     Category  Stock Quantity  Price\n",
            "0         101        Laptop  Electronics              25  $850 \n",
            "1         102    Smartphone  Electronics              40  $600 \n",
            "2         103    Desk Chair    Furniture              15  $120 \n",
            "3         104  Coffee Table    Furniture              10  $200 \n",
            "4         105        LED TV  Electronics              20  $500 \n"
          ]
        }
      ]
    },
    {
      "cell_type": "code",
      "source": [
        "#Size of the dataset\n",
        "print(\"Size of the dataset (in bytes):\", df.memory_usage().sum())"
      ],
      "metadata": {
        "colab": {
          "base_uri": "https://localhost:8080/"
        },
        "id": "WXN4uR5A1KkD",
        "outputId": "8d9df702-f33a-43b3-ba98-13943452d425"
      },
      "execution_count": null,
      "outputs": [
        {
          "output_type": "stream",
          "name": "stdout",
          "text": [
            "Size of the dataset (in bytes): 528\n"
          ]
        }
      ]
    },
    {
      "cell_type": "code",
      "source": [
        "#Number of missing values\n",
        "print(\"Number of missing values in each column:\")\n",
        "print(df.isnull().sum())\n"
      ],
      "metadata": {
        "colab": {
          "base_uri": "https://localhost:8080/"
        },
        "id": "7X4vJ2xv1QOu",
        "outputId": "b24af48d-15d3-436a-927f-98e0c10bf35c"
      },
      "execution_count": null,
      "outputs": [
        {
          "output_type": "stream",
          "name": "stdout",
          "text": [
            "Number of missing values in each column:\n",
            "Product ID        0\n",
            "Product Name      0\n",
            "Category          0\n",
            "Stock Quantity    0\n",
            "Price             0\n",
            "dtype: int64\n"
          ]
        }
      ]
    },
    {
      "cell_type": "code",
      "source": [
        "#Summary statistics for numerical columns\n",
        "print(\"Summary statistics:\")\n",
        "print(df.describe())\n"
      ],
      "metadata": {
        "colab": {
          "base_uri": "https://localhost:8080/"
        },
        "id": "LO928rze1T-3",
        "outputId": "c318e99a-8c21-408e-c37d-f1402bfe3eb0"
      },
      "execution_count": null,
      "outputs": [
        {
          "output_type": "stream",
          "name": "stdout",
          "text": [
            "Summary statistics:\n",
            "       Product ID  Stock Quantity\n",
            "count    10.00000       10.000000\n",
            "mean    105.50000       23.000000\n",
            "std       3.02765       14.749765\n",
            "min     101.00000        5.000000\n",
            "25%     103.25000       11.250000\n",
            "50%     105.50000       21.000000\n",
            "75%     107.75000       32.500000\n",
            "max     110.00000       50.000000\n"
          ]
        }
      ]
    },
    {
      "cell_type": "code",
      "source": [
        "#defining numerical columns\n",
        "numerical_cols = df.select_dtypes(include=['number'])\n",
        "#Sum\n",
        "print(\"Sum of numerical columns:\")\n",
        "print(numerical_cols.sum())"
      ],
      "metadata": {
        "colab": {
          "base_uri": "https://localhost:8080/"
        },
        "id": "vqVCW9-_1YL4",
        "outputId": "50764d0c-93cc-437a-da45-fcaeb55876b6"
      },
      "execution_count": null,
      "outputs": [
        {
          "output_type": "stream",
          "name": "stdout",
          "text": [
            "Sum of numerical columns:\n",
            "Product ID        1055\n",
            "Stock Quantity     230\n",
            "dtype: int64\n"
          ]
        }
      ]
    },
    {
      "cell_type": "code",
      "source": [
        "#average of numerical columns\n",
        "print(\"Average of numerical columns:\")\n",
        "print(numerical_cols.mean())\n"
      ],
      "metadata": {
        "colab": {
          "base_uri": "https://localhost:8080/"
        },
        "id": "JKd6XZuK1cH4",
        "outputId": "bee072b3-a478-43c5-97d5-ac7ee0d9c591"
      },
      "execution_count": null,
      "outputs": [
        {
          "output_type": "stream",
          "name": "stdout",
          "text": [
            "Average of numerical columns:\n",
            "Product ID        105.5\n",
            "Stock Quantity     23.0\n",
            "dtype: float64\n"
          ]
        }
      ]
    },
    {
      "cell_type": "code",
      "source": [
        "print(\"Minimum values of numerical columns:\")\n",
        "print(numerical_cols.min())"
      ],
      "metadata": {
        "colab": {
          "base_uri": "https://localhost:8080/"
        },
        "id": "H59Sbk8q1fgf",
        "outputId": "ccb8a681-363c-4c81-bf3f-3461544f527e"
      },
      "execution_count": null,
      "outputs": [
        {
          "output_type": "stream",
          "name": "stdout",
          "text": [
            "Minimum values of numerical columns:\n",
            "Product ID        101\n",
            "Stock Quantity      5\n",
            "dtype: int64\n"
          ]
        }
      ]
    },
    {
      "cell_type": "code",
      "source": [
        "print(\"Maximum values of numerical columns:\")\n",
        "print(numerical_cols.max())\n"
      ],
      "metadata": {
        "colab": {
          "base_uri": "https://localhost:8080/"
        },
        "id": "RdaFl5is1iKW",
        "outputId": "610012db-d432-428f-bdc9-ab8523d605af"
      },
      "execution_count": null,
      "outputs": [
        {
          "output_type": "stream",
          "name": "stdout",
          "text": [
            "Maximum values of numerical columns:\n",
            "Product ID        110\n",
            "Stock Quantity     50\n",
            "dtype: int64\n"
          ]
        }
      ]
    }
  ]
}